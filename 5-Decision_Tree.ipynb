{
 "cells": [
  {
   "cell_type": "code",
   "execution_count": null,
   "metadata": {},
   "outputs": [],
   "source": [
    "repo_path = \"/home/students/s407535/Desktop/titanic\"\n",
    "import numpy as np\n",
    "import pandas as pd\n",
    "import matplotlib.pyplot as plt\n",
    "train_data_path = \"{}/train/train.tsv\".format(repo_path)\n",
    "train_data = pd.read_csv(train_data_path, delimiter='\\t')\n",
    "X_columns=train_data[['Sex', 'Pclass']]\n",
    "y_column=train_data['Survived']\n",
    "replace_dict = {'male': 0, 'female' : 1}\n",
    "X_columns['Sex']=X_columns['Sex'].map(replace_dict)\n",
    "X = X_columns.values\n",
    "y = y_column.values.flatten()\n",
    "print(\"X shape:\", X.shape)\n",
    "print(\"Y shape:\", y.shape)\n",
    "from sklearn import tree\n",
    "model = tree.DecisionTreeClassifier()\n",
    "model.fit(X, y)\n",
    "valid_data_X = pd.read_csv(\"{}/dev-0/in.tsv\".format(repo_path),\n",
    "                           delimiter='\\t',\n",
    "                           names=train_data.columns[1:])\n",
    "valid_data_y = pd.read_csv(\"{}/dev-0/expected.tsv\".format(repo_path),\n",
    "                           delimiter='\\t',\n",
    "                           names=train_data.columns[:1])\n",
    "test_data_X = pd.read_csv(\"{}/test-A/in.tsv\".format(repo_path),\n",
    "                           delimiter='\\t',\n",
    "                           names=train_data.columns[1:])\n",
    "test_data_X['Sex']=test_data_X['Sex'].map(replace_dict)\n",
    "valid_data_X['Sex']=valid_data_X['Sex'].map(replace_dict)\n",
    "X_valid = valid_data_X[['Sex', 'Pclass']].values\n",
    "y_valid = valid_data_y[['Survived']].values\n",
    "X_test = test_data_X[['Sex', 'Pclass']].values\n",
    "valid_predicted=model.predict(X_valid)\n",
    "from sklearn.metrics import accuracy_score\n",
    "print(accuracy_score(y_valid, valid_predicted))\n",
    "test_predicted=model.predict(X_test)\n",
    "pd.Series(valid_predicted.flatten()).to_csv(\"{}/dev-0/out.tsv\".format(repo_path),\n",
    "                                            sep='\\t',\n",
    "                                            index=None)\n",
    "\n",
    "pd.Series(test_predicted.flatten()).to_csv(\"{}/test-A/out.tsv\".format(repo_path),\n",
    "                                           sep='\\t',\n",
    "                                           index=None)"
   ]
  }
 ],
 "metadata": {
  "kernelspec": {
   "display_name": "Python 3",
   "language": "python",
   "name": "python3"
  },
  "language_info": {
   "codemirror_mode": {
    "name": "ipython",
    "version": 3
   },
   "file_extension": ".py",
   "mimetype": "text/x-python",
   "name": "python",
   "nbconvert_exporter": "python",
   "pygments_lexer": "ipython3",
   "version": "3.6.4"
  }
 },
 "nbformat": 4,
 "nbformat_minor": 2
}
