{
 "cells": [
  {
   "cell_type": "code",
   "execution_count": null,
   "metadata": {},
   "outputs": [],
   "source": [
    "repo_path = \"/home/students/s407535/Desktop/titanic\"\n",
    "import numpy as np\n",
    "import pandas as pd\n",
    "import matplotlib.pyplot as plt\n",
    "train_data_path = \"{}/train/train.tsv\".format(repo_path)\n",
    "train_data = pd.read_csv(train_data_path, delimiter='\\t')\n",
    "train_X = train_data[['Sex', 'Pclass']]\n",
    "train_Y = train_data['Survived']\n",
    "replace_dict = {'male': 0, 'female' : 1}\n",
    "train_X['Sex'] = train_X['Sex'].map(replace_dict)\n",
    "X = train_X.values\n",
    "y = train_Y.values.flatten()\n",
    "from sklearn.linear_model import LogisticRegression\n",
    "print(train_X)\n",
    "from sklearn.preprocessing import StandardScaler\n",
    "scaler = StandardScaler()\n",
    "scaler.fit(train_X)\n",
    "train_X = scaler.transform(train_X)\n",
    "print(train_X)\n",
    "model = LogisticRegression()\n",
    "model.fit(train_X, train_Y)\n",
    "valid_data_X = pd.read_csv(\"{}/dev-0/in.tsv\".format(repo_path),\n",
    "                           delimiter='\\t',\n",
    "                           names=train_data.columns[1:])\n",
    "\n",
    "valid_data_y = pd.read_csv(\"{}/dev-0/expected.tsv\".format(repo_path),\n",
    "                           delimiter='\\t',\n",
    "                           names=train_data.columns[:1])\n",
    "test_data_X = pd.read_csv(\"{}/test-A/in.tsv\".format(repo_path),\n",
    "                           delimiter='\\t',\n",
    "                           names=train_data.columns[1:])\n",
    "test_data_X['Sex'] = test_data_X['Sex'].map(replace_dict)\n",
    "valid_data_X['Sex'] = valid_data_X['Sex'].map(replace_dict)\n",
    "X_valid = valid_data_X[['Sex', 'Pclass']].values\n",
    "y_valid = valid_data_y[['Survived']].values\n",
    "X_test = test_data_X[['Sex', 'Pclass']].values\n",
    "valid_predicted = model.predict(scaler.transform(X_valid))\n",
    "test_predicted = model.predict(scaler.transform(X_test))\n",
    "from sklearn.metrics import roc_curve\n",
    "y_pred_prob = model.predict_proba(X_valid)[:,1]\n",
    "fpr, tpr, thresholds = roc_curve(y_valid, y_pred_prob)\n",
    "plt.plot([0, 1], [0, 1], 'k--')\n",
    "plt.plot(fpr, tpr)\n",
    "plt.xlabel('False Positive Rate')\n",
    "plt.ylabel('True Positive Rate')\n",
    "plt.title('ROC Curve')\n",
    "plt.show()\n",
    "pd.Series(valid_predicted.flatten()).to_csv(\"{}/dev-0/out.tsv\".format(repo_path),\n",
    "                                            sep='\\t',\n",
    "                                            index=None)\n",
    "\n",
    "pd.Series(test_predicted.flatten()).to_csv(\"{}/test-A/out.tsv\".format(repo_path),\n",
    "                                           sep='\\t',\n",
    "                                           index=None)"
   ]
  }
 ],
 "metadata": {
  "kernelspec": {
   "display_name": "Python 3",
   "language": "python",
   "name": "python3"
  },
  "language_info": {
   "codemirror_mode": {
    "name": "ipython",
    "version": 3
   },
   "file_extension": ".py",
   "mimetype": "text/x-python",
   "name": "python",
   "nbconvert_exporter": "python",
   "pygments_lexer": "ipython3",
   "version": "3.6.4"
  }
 },
 "nbformat": 4,
 "nbformat_minor": 2
}
